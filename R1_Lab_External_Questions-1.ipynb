{
  "nbformat": 4,
  "nbformat_minor": 0,
  "metadata": {
    "kernelspec": {
      "display_name": "Python 3",
      "language": "python",
      "name": "python3"
    },
    "language_info": {
      "codemirror_mode": {
        "name": "ipython",
        "version": 3
      },
      "file_extension": ".py",
      "mimetype": "text/x-python",
      "name": "python",
      "nbconvert_exporter": "python",
      "pygments_lexer": "ipython3",
      "version": "3.6.5"
    },
    "colab": {
      "name": "R1-Lab-External_Questions.ipynb",
      "provenance": [],
      "collapsed_sections": [
        "gq-gq4LX-hGo",
        "D27TjMla-hGs",
        "q1koFix9-hGw",
        "oxMDbSIG-hG1",
        "Oa39H09W-hG5",
        "VSPOhXtc-hG8",
        "qo8v58zq-hG_",
        "F4zNRmIQ-hHC",
        "A66jKphx-hHK",
        "ZpY8sVKx-hHX",
        "d-fwaX9n-hHb",
        "DqMMaMGh-hHe",
        "EnwVJ7-2-hHp",
        "SeDfCO6e-hH1",
        "BYGgxexL-hIC",
        "ziVoOVZH-hIF",
        "uAgkVqGA-hIH",
        "sACRdnwu-hIS"
      ]
    }
  },
  "cells": [
    {
      "cell_type": "markdown",
      "metadata": {
        "id": "ghAUfIRU-hGA",
        "colab_type": "text"
      },
      "source": [
        "# External Lab"
      ]
    },
    {
      "cell_type": "markdown",
      "metadata": {
        "id": "aAjYGbe--hGB",
        "colab_type": "text"
      },
      "source": [
        "# Part-1"
      ]
    },
    {
      "cell_type": "markdown",
      "metadata": {
        "id": "hbrcZz8o-hGC",
        "colab_type": "text"
      },
      "source": [
        "## About the dataset\n",
        "\n",
        "This is perhaps the best known database to be found in the pattern recognition literature. The data set contains 3 classes of 50 instances each, where each class refers to a type of iris plant.  One class is linearly separable from the other 2; the latter are NOT linearly separable from each other.\n",
        "\n",
        "Attribute Information:\n",
        "   1. sepal length in cm\n",
        "   2. sepal width in cm\n",
        "   3. petal length in cm\n",
        "   4. petal width in cm\n",
        "   5. class: \n",
        "      -- Iris Setosa\n",
        "      -- Iris Versicolour\n",
        "      -- Iris Virginica"
      ]
    },
    {
      "cell_type": "markdown",
      "metadata": {
        "id": "eb5rgwGY-hGD",
        "colab_type": "text"
      },
      "source": [
        "### Read the dataset and store it in the dataframe named Iris"
      ]
    },
    {
      "cell_type": "code",
      "metadata": {
        "id": "a1Atrdzf-hGG",
        "colab_type": "code",
        "colab": {}
      },
      "source": [
        ""
      ],
      "execution_count": 0,
      "outputs": []
    },
    {
      "cell_type": "markdown",
      "metadata": {
        "id": "eVYpigRu-hGM",
        "colab_type": "text"
      },
      "source": [
        "### Find out the datatypes of each and every column"
      ]
    },
    {
      "cell_type": "code",
      "metadata": {
        "id": "hWzS0gIh-hGO",
        "colab_type": "code",
        "colab": {}
      },
      "source": [
        ""
      ],
      "execution_count": 0,
      "outputs": []
    },
    {
      "cell_type": "markdown",
      "metadata": {
        "id": "OCdvlMMG-hGT",
        "colab_type": "text"
      },
      "source": [
        "### Print top 10 & bottom 10 samples from the dataframe"
      ]
    },
    {
      "cell_type": "code",
      "metadata": {
        "id": "ZiHhAQ9o-hGV",
        "colab_type": "code",
        "colab": {}
      },
      "source": [
        ""
      ],
      "execution_count": 0,
      "outputs": []
    },
    {
      "cell_type": "markdown",
      "metadata": {
        "id": "CSXfFkQF-hGZ",
        "colab_type": "text"
      },
      "source": [
        "### Find the shape of the dataset"
      ]
    },
    {
      "cell_type": "code",
      "metadata": {
        "id": "vYJiFMR8-hGa",
        "colab_type": "code",
        "colab": {}
      },
      "source": [
        ""
      ],
      "execution_count": 0,
      "outputs": []
    },
    {
      "cell_type": "markdown",
      "metadata": {
        "id": "Wi0iXOn--hGc",
        "colab_type": "text"
      },
      "source": [
        "### Set the index of the dataframe to be the first column"
      ]
    },
    {
      "cell_type": "code",
      "metadata": {
        "id": "NzWAgVKb-hGd",
        "colab_type": "code",
        "colab": {}
      },
      "source": [
        ""
      ],
      "execution_count": 0,
      "outputs": []
    },
    {
      "cell_type": "code",
      "metadata": {
        "id": "jkyKV97_-hGf",
        "colab_type": "code",
        "colab": {}
      },
      "source": [
        ""
      ],
      "execution_count": 0,
      "outputs": []
    },
    {
      "cell_type": "markdown",
      "metadata": {
        "id": "oSAVmssp-hGi",
        "colab_type": "text"
      },
      "source": [
        "### Use iloc function to print all the rows of the 3rd column "
      ]
    },
    {
      "cell_type": "code",
      "metadata": {
        "id": "O2WN8IEN-hGj",
        "colab_type": "code",
        "colab": {}
      },
      "source": [
        ""
      ],
      "execution_count": 0,
      "outputs": []
    },
    {
      "cell_type": "markdown",
      "metadata": {
        "id": "gq-gq4LX-hGo",
        "colab_type": "text"
      },
      "source": [
        "### Slicing\n",
        "Print only the Sepal width and Sepal Length for first 10 rows "
      ]
    },
    {
      "cell_type": "code",
      "metadata": {
        "id": "wYKtTbH0-hGp",
        "colab_type": "code",
        "colab": {}
      },
      "source": [
        ""
      ],
      "execution_count": 0,
      "outputs": []
    },
    {
      "cell_type": "markdown",
      "metadata": {
        "id": "D27TjMla-hGs",
        "colab_type": "text"
      },
      "source": [
        "### Using Logical statements for indexing\n",
        "Print all the columns of row which has class name \"Iris-setosa\""
      ]
    },
    {
      "cell_type": "code",
      "metadata": {
        "id": "DRh37Mxf-hGt",
        "colab_type": "code",
        "colab": {}
      },
      "source": [
        ""
      ],
      "execution_count": 0,
      "outputs": []
    },
    {
      "cell_type": "markdown",
      "metadata": {
        "id": "q1koFix9-hGw",
        "colab_type": "text"
      },
      "source": [
        "### Multiply Sepal Length and width and store it under the column name \"SepalExtra\" in the same Iris dataframe"
      ]
    },
    {
      "cell_type": "code",
      "metadata": {
        "id": "r-b2wzZX-hGx",
        "colab_type": "code",
        "colab": {}
      },
      "source": [
        ""
      ],
      "execution_count": 0,
      "outputs": []
    },
    {
      "cell_type": "code",
      "metadata": {
        "id": "6KflXNM8-hGz",
        "colab_type": "code",
        "colab": {}
      },
      "source": [
        ""
      ],
      "execution_count": 0,
      "outputs": []
    },
    {
      "cell_type": "markdown",
      "metadata": {
        "id": "oxMDbSIG-hG1",
        "colab_type": "text"
      },
      "source": [
        "### Find out the mean and variance for each column but for class column "
      ]
    },
    {
      "cell_type": "code",
      "metadata": {
        "id": "41xKDWaI-hG3",
        "colab_type": "code",
        "colab": {}
      },
      "source": [
        ""
      ],
      "execution_count": 0,
      "outputs": []
    },
    {
      "cell_type": "markdown",
      "metadata": {
        "id": "Oa39H09W-hG5",
        "colab_type": "text"
      },
      "source": [
        "### Write a function that accepts two numbers as input and prints them - Pass the Sepal length and sepal width of 5th row and print the output"
      ]
    },
    {
      "cell_type": "code",
      "metadata": {
        "id": "dN5_i72f-hG6",
        "colab_type": "code",
        "colab": {}
      },
      "source": [
        ""
      ],
      "execution_count": 0,
      "outputs": []
    },
    {
      "cell_type": "markdown",
      "metadata": {
        "id": "VSPOhXtc-hG8",
        "colab_type": "text"
      },
      "source": [
        "### Find the range of all the columns in the dataset\n",
        "\n",
        "*Range = Max value - Min value (in the column)*"
      ]
    },
    {
      "cell_type": "code",
      "metadata": {
        "id": "W5jsYOEU-hG9",
        "colab_type": "code",
        "colab": {}
      },
      "source": [
        ""
      ],
      "execution_count": 0,
      "outputs": []
    },
    {
      "cell_type": "markdown",
      "metadata": {
        "id": "qo8v58zq-hG_",
        "colab_type": "text"
      },
      "source": [
        "### Sort the entire dataset according to the column Petal width"
      ]
    },
    {
      "cell_type": "code",
      "metadata": {
        "id": "u-9kZSaD-hHA",
        "colab_type": "code",
        "colab": {}
      },
      "source": [
        ""
      ],
      "execution_count": 0,
      "outputs": []
    },
    {
      "cell_type": "markdown",
      "metadata": {
        "id": "F4zNRmIQ-hHC",
        "colab_type": "text"
      },
      "source": [
        "### Remove the new column \"SepalExtra\" from the dataframe"
      ]
    },
    {
      "cell_type": "code",
      "metadata": {
        "id": "91v7WRQ6-hHD",
        "colab_type": "code",
        "colab": {}
      },
      "source": [
        ""
      ],
      "execution_count": 0,
      "outputs": []
    },
    {
      "cell_type": "markdown",
      "metadata": {
        "id": "A66jKphx-hHK",
        "colab_type": "text"
      },
      "source": [
        "### Take only the top 10 rows of the dataset with only first 3 columns and store it in a dataframe named \"IrisSubset\" "
      ]
    },
    {
      "cell_type": "code",
      "metadata": {
        "id": "c65BDY22-hHN",
        "colab_type": "code",
        "colab": {}
      },
      "source": [
        ""
      ],
      "execution_count": 0,
      "outputs": []
    },
    {
      "cell_type": "code",
      "metadata": {
        "id": "e0Rm34YO-hHT",
        "colab_type": "code",
        "colab": {}
      },
      "source": [
        ""
      ],
      "execution_count": 0,
      "outputs": []
    },
    {
      "cell_type": "markdown",
      "metadata": {
        "id": "uEl6eg5X-hHV",
        "colab_type": "text"
      },
      "source": [
        "# Part-2"
      ]
    },
    {
      "cell_type": "markdown",
      "metadata": {
        "id": "vgqzLclM-hHW",
        "colab_type": "text"
      },
      "source": [
        "## The dataset HR contains information collected from the survey floated by a HR within the company.\n",
        "\n",
        "\n",
        "As a part of this lab, you are expected to answer the below questions"
      ]
    },
    {
      "cell_type": "markdown",
      "metadata": {
        "id": "ZpY8sVKx-hHX",
        "colab_type": "text"
      },
      "source": [
        "### Import numpy and Pandas "
      ]
    },
    {
      "cell_type": "code",
      "metadata": {
        "id": "DCA2MG6b-hHY",
        "colab_type": "code",
        "colab": {}
      },
      "source": [
        ""
      ],
      "execution_count": 0,
      "outputs": []
    },
    {
      "cell_type": "markdown",
      "metadata": {
        "id": "d-fwaX9n-hHb",
        "colab_type": "text"
      },
      "source": [
        "### Import the dataset (Note: The dataset is in .txt format) - Make sure to use delimiters"
      ]
    },
    {
      "cell_type": "code",
      "metadata": {
        "id": "_WVYZLs--hHc",
        "colab_type": "code",
        "colab": {}
      },
      "source": [
        ""
      ],
      "execution_count": 0,
      "outputs": []
    },
    {
      "cell_type": "markdown",
      "metadata": {
        "id": "DqMMaMGh-hHe",
        "colab_type": "text"
      },
      "source": [
        "### Print the no of rows and columns in the dataset "
      ]
    },
    {
      "cell_type": "code",
      "metadata": {
        "id": "WskvUlcc-hHe",
        "colab_type": "code",
        "colab": {}
      },
      "source": [
        ""
      ],
      "execution_count": 0,
      "outputs": []
    },
    {
      "cell_type": "code",
      "metadata": {
        "id": "gID-wrbb-hHh",
        "colab_type": "code",
        "colab": {}
      },
      "source": [
        ""
      ],
      "execution_count": 0,
      "outputs": []
    },
    {
      "cell_type": "markdown",
      "metadata": {
        "id": "EnwVJ7-2-hHp",
        "colab_type": "text"
      },
      "source": [
        "### Find out the type of each and every column in the dataset "
      ]
    },
    {
      "cell_type": "code",
      "metadata": {
        "id": "D7oaJeGs-hHr",
        "colab_type": "code",
        "colab": {}
      },
      "source": [
        ""
      ],
      "execution_count": 0,
      "outputs": []
    },
    {
      "cell_type": "code",
      "metadata": {
        "id": "ZVdhaqDG-hHv",
        "colab_type": "code",
        "colab": {}
      },
      "source": [
        ""
      ],
      "execution_count": 0,
      "outputs": []
    },
    {
      "cell_type": "markdown",
      "metadata": {
        "id": "SeDfCO6e-hH1",
        "colab_type": "text"
      },
      "source": [
        "### Print out all the rows from 3rd column to 10th columns  "
      ]
    },
    {
      "cell_type": "code",
      "metadata": {
        "id": "euNEW_3o-hH2",
        "colab_type": "code",
        "colab": {}
      },
      "source": [
        ""
      ],
      "execution_count": 0,
      "outputs": []
    },
    {
      "cell_type": "markdown",
      "metadata": {
        "id": "kqEYxONj-hH7",
        "colab_type": "text"
      },
      "source": [
        "### Find out the no of male & female employees in the company\n",
        "\n",
        "*Hint: Use can use a condition to find out the no of 1s and 2s in gender and sum it. \n",
        "1: male\n",
        "2: female\n",
        "***"
      ]
    },
    {
      "cell_type": "code",
      "metadata": {
        "id": "yxi1RFZm-hH8",
        "colab_type": "code",
        "colab": {}
      },
      "source": [
        ""
      ],
      "execution_count": 0,
      "outputs": []
    },
    {
      "cell_type": "code",
      "metadata": {
        "id": "qoL2JKE3-hH-",
        "colab_type": "code",
        "colab": {}
      },
      "source": [
        ""
      ],
      "execution_count": 0,
      "outputs": []
    },
    {
      "cell_type": "markdown",
      "metadata": {
        "id": "BYGgxexL-hIC",
        "colab_type": "text"
      },
      "source": [
        "### Find out the IQR for the column - Age \n",
        "\n",
        "*Hint: IQR - Interquartile range = 75th percentile - 25th percentile* "
      ]
    },
    {
      "cell_type": "code",
      "metadata": {
        "id": "U0UbvAAI-hID",
        "colab_type": "code",
        "colab": {}
      },
      "source": [
        ""
      ],
      "execution_count": 0,
      "outputs": []
    },
    {
      "cell_type": "markdown",
      "metadata": {
        "id": "ziVoOVZH-hIF",
        "colab_type": "text"
      },
      "source": [
        "### Find out the mean, median and variance for the column - DailyRate "
      ]
    },
    {
      "cell_type": "code",
      "metadata": {
        "id": "JbV4Apty-hIF",
        "colab_type": "code",
        "colab": {}
      },
      "source": [
        ""
      ],
      "execution_count": 0,
      "outputs": []
    },
    {
      "cell_type": "markdown",
      "metadata": {
        "id": "uAgkVqGA-hIH",
        "colab_type": "text"
      },
      "source": [
        "### Plot the attrition column (Since it is a categorical variable, chose the plot accordingly)"
      ]
    },
    {
      "cell_type": "code",
      "metadata": {
        "id": "U8_NB7Z0-hIK",
        "colab_type": "code",
        "colab": {}
      },
      "source": [
        ""
      ],
      "execution_count": 0,
      "outputs": []
    },
    {
      "cell_type": "code",
      "metadata": {
        "id": "Dj9t31Oy-hIP",
        "colab_type": "code",
        "colab": {}
      },
      "source": [
        ""
      ],
      "execution_count": 0,
      "outputs": []
    },
    {
      "cell_type": "markdown",
      "metadata": {
        "id": "sACRdnwu-hIS",
        "colab_type": "text"
      },
      "source": [
        "### Plot Total working years using matplotlib plot function"
      ]
    },
    {
      "cell_type": "code",
      "metadata": {
        "id": "UeXRbZsX-hIT",
        "colab_type": "code",
        "colab": {}
      },
      "source": [
        ""
      ],
      "execution_count": 0,
      "outputs": []
    }
  ]
}