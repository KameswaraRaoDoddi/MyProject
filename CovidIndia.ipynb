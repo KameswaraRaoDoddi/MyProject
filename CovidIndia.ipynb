{
  "nbformat": 4,
  "nbformat_minor": 0,
  "metadata": {
    "colab": {
      "name": "CovidIndia.ipynb",
      "provenance": [],
      "collapsed_sections": [],
      "mount_file_id": "1ZgNhwjKFYlvuvP9cMOpLW0skfFw9HsTu",
      "authorship_tag": "ABX9TyPE9s5MLk7cuVETY9qcPnu4",
      "include_colab_link": true
    },
    "kernelspec": {
      "name": "python3",
      "display_name": "Python 3"
    },
    "language_info": {
      "name": "python"
    }
  },
  "cells": [
    {
      "cell_type": "markdown",
      "metadata": {
        "id": "view-in-github",
        "colab_type": "text"
      },
      "source": [
        "<a href=\"https://colab.research.google.com/github/KameswaraRaoDoddi/MyProject/blob/master/CovidIndia.ipynb\" target=\"_parent\"><img src=\"https://colab.research.google.com/assets/colab-badge.svg\" alt=\"Open In Colab\"/></a>"
      ]
    },
    {
      "cell_type": "code",
      "metadata": {
        "colab": {
          "base_uri": "https://localhost:8080/"
        },
        "id": "_lRCn8ZSSIv1",
        "outputId": "e8f85925-1829-437b-f31a-a35301eec79c"
      },
      "source": [
        "from google.colab import drive\n",
        "drive.mount('/content/drive')"
      ],
      "execution_count": 20,
      "outputs": [
        {
          "output_type": "stream",
          "text": [
            "Mounted at /content/drive\n"
          ],
          "name": "stdout"
        }
      ]
    },
    {
      "cell_type": "code",
      "metadata": {
        "id": "a63buHeJWWm1"
      },
      "source": [
        "data = '/content/drive/MyDrive/AIML/CovidIndia/data2.csv'"
      ],
      "execution_count": 21,
      "outputs": []
    },
    {
      "cell_type": "code",
      "metadata": {
        "id": "H1pYmlgCKJDA"
      },
      "source": [
        "class NoFitFoundError(Exception):\n",
        "    \"\"\"fit() method needs to be called.\"\"\"\n",
        "\n",
        "    def __init__(self):\n",
        "        \"\"\"Exception initialization.\"\"\"\n",
        "        super().__init__(\"No fit was found. Please fit the model data first.\")\n",
        "\n",
        "\n",
        "class NoSimulationFoundError(Exception):\n",
        "    \"\"\"simulation() method needs to be called.\"\"\"\n",
        "\n",
        "    def __init__(self):\n",
        "        \"\"\"Exception initialization.\"\"\"\n",
        "        super().__init__(\"No simulation was found. Please simulate the data first.\")"
      ],
      "execution_count": 14,
      "outputs": []
    },
    {
      "cell_type": "code",
      "metadata": {
        "id": "RfubpYtyG0y0"
      },
      "source": [
        "import numpy as np\n",
        "import pandas as pd\n",
        "import matplotlib.pyplot as plt\n",
        "from scipy.stats import linregress\n",
        "from scipy.integrate import odeint\n",
        "\n"
      ],
      "execution_count": 15,
      "outputs": []
    },
    {
      "cell_type": "code",
      "metadata": {
        "colab": {
          "base_uri": "https://localhost:8080/"
        },
        "id": "mGrg43yVIySi",
        "outputId": "b35797ff-2e6c-42ae-9f75-ccc7addee612"
      },
      "source": [
        "!pip install lmfit"
      ],
      "execution_count": 16,
      "outputs": [
        {
          "output_type": "stream",
          "text": [
            "Requirement already satisfied: lmfit in /usr/local/lib/python3.7/dist-packages (1.0.2)\n",
            "Requirement already satisfied: uncertainties>=3.0.1 in /usr/local/lib/python3.7/dist-packages (from lmfit) (3.1.5)\n",
            "Requirement already satisfied: asteval>=0.9.16 in /usr/local/lib/python3.7/dist-packages (from lmfit) (0.9.23)\n",
            "Requirement already satisfied: scipy>=1.2 in /usr/local/lib/python3.7/dist-packages (from lmfit) (1.4.1)\n",
            "Requirement already satisfied: numpy>=1.16 in /usr/local/lib/python3.7/dist-packages (from lmfit) (1.19.5)\n",
            "Requirement already satisfied: future in /usr/local/lib/python3.7/dist-packages (from uncertainties>=3.0.1->lmfit) (0.16.0)\n"
          ],
          "name": "stdout"
        }
      ]
    },
    {
      "cell_type": "code",
      "metadata": {
        "id": "_5oOGgefI2Ql"
      },
      "source": [
        "from lmfit import Model, Parameters"
      ],
      "execution_count": 17,
      "outputs": []
    },
    {
      "cell_type": "code",
      "metadata": {
        "id": "aVrErj2dIKtu"
      },
      "source": [
        "class Covid19India:\n",
        "    def __init__(self):\n",
        "        self.__fit_return = None\n",
        "        self.__simulation_return = None\n",
        "        self.__name = \"India\"\n",
        "        self.__population = 1380493070 #69348367 #29399000 #112374333 #  #  \n",
        "        self.__data = pd.DataFrame(pd.read_csv(data, index_col=0))\n",
        "    \n",
        "    @property\n",
        "    def name(self) -> str:\n",
        "        \"\"\"Get the name.\"\"\"\n",
        "        return self.__name\n",
        "    \n",
        "    @property\n",
        "    def population(self) -> int:\n",
        "        \"\"\"Get the population size.\"\"\"\n",
        "        return self.__population\n",
        "\n",
        "    @property\n",
        "    def data(self) -> pd.DataFrame:\n",
        "        \"\"\"Get the covid data.\"\"\"\n",
        "        return self.__data\n",
        "\n",
        "    @property\n",
        "    def best_fit(self) -> np.ndarray:\n",
        "        \"\"\"Get best fit.\"\"\"\n",
        "        if self.__fit_return is None:\n",
        "            raise NoFitFoundError()\n",
        "        return np.array(\n",
        "            [i * self.population for i in self.__fit_return[\"best_fit\"]]\n",
        "        )\n",
        "\n",
        "    @property\n",
        "    def r0(self) -> np.float64:\n",
        "        \"\"\"Get r0.\"\"\"\n",
        "        if self.__fit_return is None:\n",
        "            raise NoFitFoundError()\n",
        "        return self.__fit_return[\"r0\"]\n",
        "\n",
        "    @property\n",
        "    def r2(self) -> np.float64:\n",
        "        \"\"\"Get r2.\"\"\"\n",
        "        if self.__fit_return is None:\n",
        "            raise NoFitFoundError()\n",
        "        return self.__fit_return[\"r2\"]\n",
        "    \n",
        "    @property\n",
        "    def curves(self) -> pd.DataFrame:\n",
        "        \"\"\"Get SEIRD simulation curves.\"\"\"\n",
        "        if self.__simulation_return is None:\n",
        "            raise NoSimulationFoundError()\n",
        "        return pd.DataFrame(\n",
        "            data={\n",
        "                \"susceptible\": self.__simulation_return[\"S\"],\n",
        "                \"exposed\": self.__simulation_return[\"E\"],\n",
        "                \"infected\": self.__simulation_return[\"I\"],\n",
        "                \"recovered\": self.__simulation_return[\"R\"],\n",
        "                \"dead\": self.__simulation_return[\"D\"],\n",
        "            }\n",
        "        )\n",
        "        \n",
        "    def fit(self):\n",
        "        \"\"\"Fit the real data into the SEIRD model.\"\"\"\n",
        "        if self.__fit_return is None:\n",
        "            scaled_cases = np.array([i / self.population for i in self.data[\"confirmed\"]])\n",
        "            x = np.linspace(0.0, len(scaled_cases), len(scaled_cases))\n",
        "\n",
        "            params = Parameters()\n",
        "            params.add(\"r0\", value=1.4, min=0.0, max=5.0)\n",
        "            params.add(\"gamma\", value=0.1, min=0.0, max=1.0)\n",
        "            params.add(\"delta\", value=0.1, min=0.0, max=1.0)\n",
        "            params.add(\"alpha\", value=0.2, min=0.0, max=1.0)\n",
        "            params.add(\"rho\", value=0.1, min=0.0, max=1.0)\n",
        "            params.add(\"population\", value=self.population, vary=False)\n",
        "            params.add(\"fit\", value=True, vary=False)\n",
        "\n",
        "            mod = Model(_seird)\n",
        "            model_return = mod.fit(scaled_cases, params, method=\"leastsq\", x=x)\n",
        "            # model_return = np.asarray([e[0] for e in model_return])\n",
        "            _, _, r_value, _, _ = linregress(model_return.best_fit, scaled_cases)\n",
        "            print(\"ro\",model_return.best_values[\"r0\"],\"gamma\",model_return.best_values[\"gamma\"],\"delta\",model_return.best_values[\"delta\"],\n",
        "                  \"alpha\",model_return.best_values[\"alpha\"],\"rho\",model_return.best_values[\"rho\"])\n",
        "            print(model_return.fit_report())\n",
        "            print(model_return.residual.var())\n",
        "            self.__fit_return = {\n",
        "                \"best_fit\": model_return.best_fit,\n",
        "                \"r0\": model_return.best_values[\"r0\"],\n",
        "                \"r2\": r_value ** 2,\n",
        "                \"gamma\": model_return.best_values[\"gamma\"],\n",
        "                \"delta\": model_return.best_values[\"delta\"],\n",
        "                \"alpha\": model_return.best_values[\"alpha\"],\n",
        "                \"rho\": model_return.best_values[\"rho\"],\n",
        "            }\n",
        "        \n",
        "    def plot_fit(self, filename: str = \"\"):\n",
        "        \"\"\"Plot fit curve.\n",
        "\n",
        "        Parameters\n",
        "        ----------\n",
        "            - filename: output PNG file name.\n",
        "\n",
        "        \"\"\"\n",
        "        if self.__fit_return is not None:\n",
        "\n",
        "            x = pd.to_datetime(self.data.index)\n",
        "\n",
        "            plt.figure(figsize=(10, 4))\n",
        "            plt.plot_date(x, self.data[\"confirmed\"], \"-\")\n",
        "            plt.plot(x, self.best_fit)\n",
        "            plt.legend(\n",
        "                [\n",
        "                    \"real\",\n",
        "                    \"fit (R2: {:.2f} | R0: {:.2f})\".format(self.r2, self.r0),\n",
        "                ]\n",
        "            )\n",
        "            plt.title(\"{} - SEIRD model fit\".format(self.name))\n",
        "            plt.xlabel(\"time (since first confirmed infection)\")\n",
        "            plt.ylabel(\"population\")\n",
        "            if len(filename) != 0:\n",
        "                plt.savefig(\"{}.png\".format(filename))\n",
        "            return plt\n",
        "        \n",
        "    def simulation(self, days_ahead: int = 100):\n",
        "        \"\"\"Compute the seird model simulation curves.\n",
        "\n",
        "        Parameters\n",
        "        ----------\n",
        "            - days_ahead: day ahead of real data to be simulated.\n",
        "\n",
        "        \"\"\"\n",
        "        if self.__fit_return is not None:\n",
        "            scaled_cases = np.array([i / self.population for i in self.data[\"confirmed\"]])\n",
        "            x = np.linspace(0.0, len(scaled_cases)+ days_ahead, len(scaled_cases) + days_ahead)\n",
        "            S, E, I, R, D = _seird(x, self.r0, self.__fit_return[\"gamma\"], self.__fit_return[\"delta\"], self.__fit_return[\"alpha\"],\n",
        "                self.__fit_return[\"rho\"], population=self.population, fit=False)\n",
        "\n",
        "            self.__simulation_return = {\"S\": S, \"E\": E, \"I\": I, \"R\": R, \"D\": D}\n",
        "            \n",
        "            \n",
        "    def plot_simulation(self, filename: str = \"\"):\n",
        "        \"\"\"Plot SEIRD simulation curves.\n",
        "\n",
        "        Parameters\n",
        "        ----------\n",
        "            - filename: output PNG file name.\n",
        "\n",
        "        \"\"\"\n",
        "        if self.__simulation_return is not None:\n",
        "\n",
        "            real_data = pd.to_datetime(self.data.index)\n",
        "            print(real_data)\n",
        "            x = pd.date_range(start=real_data[0], periods=len(self.curves[\"susceptible\"]))\n",
        "            \n",
        "            f, ax = plt.subplots(1, 1, figsize=(10, 5))\n",
        "            ax.plot_date(x, list(map(lambda x: x * self.population, self.curves[\"susceptible\"])), \"b\", alpha=0.7, linewidth=2, label=\"susceptible\")\n",
        "            print(list(map(lambda x: x * self.population, self.curves[\"infected\"])))\n",
        "            print(list(map(lambda x: x * self.population, self.curves[\"dead\"])))\n",
        "            ax.plot_date(x, list(map(lambda x: x * self.population, self.curves[\"exposed\"])), \"y\", alpha=0.7, linewidth=2, label=\"exposed\")\n",
        "            ax.plot_date(x, list(map(lambda x: x * self.population, self.curves[\"infected\"])), \"r\", alpha=0.7, linewidth=2, label=\"infected\")\n",
        "            ax.plot_date(x, list(map(lambda x: x * self.population, self.curves[\"recovered\"])), \"g\", alpha=0.7, linewidth=2, label=\"recovered\")\n",
        "            ax.plot_date(x, list(map(lambda x: x * self.population, self.curves[\"dead\"])), \"k\", alpha=0.7, linewidth=2, label=\"dead\")\n",
        "            ax.plot_date(x, list(map(lambda x: x * self.population, self.curves[\"dead\"]+ self.curves[\"recovered\"]+ self.curves[\"infected\"]+ self.curves[\"exposed\"]+self.curves[\"susceptible\"])\n",
        "                                                                                                         ), \"c--\", alpha=0.7, linewidth=2, label=\"Total\")\n",
        "            # ax.plot(t, S+E+I+R+D, 'c--', alpha=0.7, linewidth=2, label='Total')\n",
        "\n",
        "            ax.set_ylabel(\"population\")\n",
        "            ax.set_xlabel(\"time (since first confirmed infection)\")\n",
        "\n",
        "            ax.yaxis.set_tick_params(length=0)\n",
        "            ax.xaxis.set_tick_params(length=0)\n",
        "            ax.grid(b=True, which=\"major\", c=\"w\", lw=2, ls=\"-\")\n",
        "            legend = ax.legend()\n",
        "            legend.get_frame().set_alpha(0.5)\n",
        "            for spine in (\"top\", \"right\", \"bottom\", \"left\"):\n",
        "                ax.spines[spine].set_visible(False)\n",
        "\n",
        "            plt.title(\"{} - SEIRD Simulation\".format(self.name))\n",
        "            if len(filename) != 0:\n",
        "                 plt.savefig(\"{}.png\".format(filename))\n",
        "            return plt\n"
      ],
      "execution_count": 28,
      "outputs": []
    },
    {
      "cell_type": "code",
      "metadata": {
        "id": "uStxAM-0Mre1"
      },
      "source": [
        "def _seird(x, r0, gamma, delta, alpha, rho, population, fit):\n",
        "    def deriv(y, x, r0, gamma, delta, alpha, rho):\n",
        "        beta = r0 * gamma\n",
        "        S, E, I, R, D = y\n",
        "        dSdt = -beta * S * I\n",
        "        dEdt = beta * S * I - delta * E\n",
        "        dIdt = delta * E - (1 - alpha) * gamma * I - alpha * rho * I\n",
        "        dRdt = (1 - alpha) * gamma * I\n",
        "        dDdt = alpha * rho * I\n",
        "        return dSdt, dEdt, dIdt, dRdt, dDdt\n",
        "\n",
        "    I0 = 1 / population\n",
        "    S0 = 1 - I0\n",
        "    y0 = [S0, I0, I0, 0.0, 0.0]\n",
        "    ysol = odeint(deriv, y0, x, args=(r0, gamma, delta, alpha, rho))\n",
        "\n",
        "    S, E, I, R, D = ysol.T\n",
        "    if fit:\n",
        "        return I\n",
        "    else:\n",
        "        return [S, E, I, R, D]"
      ],
      "execution_count": 29,
      "outputs": []
    },
    {
      "cell_type": "code",
      "metadata": {
        "id": "8SJ7XLBpNw5M"
      },
      "source": [
        "ind = Covid19India()"
      ],
      "execution_count": 30,
      "outputs": []
    },
    {
      "cell_type": "code",
      "metadata": {
        "colab": {
          "base_uri": "https://localhost:8080/"
        },
        "id": "1nqoqqU4W1dh",
        "outputId": "c6344039-8043-46a0-dcfd-360dd10b0aef"
      },
      "source": [
        "ind.fit()"
      ],
      "execution_count": 31,
      "outputs": [
        {
          "output_type": "stream",
          "text": [
            "ro 4.524118002141922 gamma 0.09680127525577875 delta 0.27104866867934174 alpha 0.05594583282236604 rho 0.012744258257842866\n",
            "[[Model]]\n",
            "    Model(_seird)\n",
            "[[Fit Statistics]]\n",
            "    # fitting method   = leastsq\n",
            "    # function evals   = 95\n",
            "    # data points      = 74\n",
            "    # variables        = 5\n",
            "    chi-square         = 2.3427e-07\n",
            "    reduced chi-square = 3.3952e-09\n",
            "    Akaike info crit   = -1438.24306\n",
            "    Bayesian info crit = -1426.72273\n",
            "[[Variables]]\n",
            "    r0:          4.52411800 +/- 2794306.19 (61764661.85%) (init = 1.4)\n",
            "    gamma:       0.09680128 +/- 59778.8696 (61754216.98%) (init = 0.1)\n",
            "    delta:       0.27104867 +/- 111.518590 (41143.38%) (init = 0.1)\n",
            "    alpha:       0.05594583 +/- 1350530.13 (2413995938.55%) (init = 0.2)\n",
            "    rho:         0.01274426 +/- 2540748.72 (19936418964.57%) (init = 0.1)\n",
            "    population:  1.380493e+09 (fixed)\n",
            "    fit:         1 (fixed)\n",
            "[[Correlations]] (unreported correlations are < 0.100)\n",
            "    C(r0, gamma)    = -1.000\n",
            "    C(alpha, rho)   =  0.889\n",
            "    C(delta, alpha) =  0.785\n",
            "    C(r0, rho)      =  0.728\n",
            "    C(gamma, rho)   = -0.728\n",
            "    C(delta, rho)   =  0.719\n",
            "    C(r0, alpha)    =  0.414\n",
            "    C(gamma, alpha) = -0.414\n",
            "    C(r0, delta)    =  0.371\n",
            "    C(gamma, delta) = -0.371\n",
            "1.6945073106317573e-09\n"
          ],
          "name": "stdout"
        }
      ]
    },
    {
      "cell_type": "code",
      "metadata": {
        "colab": {
          "base_uri": "https://localhost:8080/",
          "height": 312
        },
        "id": "DU8-VQC9XW-y",
        "outputId": "931c7491-db73-4a3b-e146-031eb5799911"
      },
      "source": [
        "ind.plot_fit()"
      ],
      "execution_count": 32,
      "outputs": [
        {
          "output_type": "execute_result",
          "data": {
            "text/plain": [
              "<module 'matplotlib.pyplot' from '/usr/local/lib/python3.7/dist-packages/matplotlib/pyplot.py'>"
            ]
          },
          "metadata": {
            "tags": []
          },
          "execution_count": 32
        },
        {
          "output_type": "display_data",
          "data": {
            "image/png": "[encoded data removed]",
            "text/plain": [
              "<Figure size 720x288 with 1 Axes>"
            ]
          },
          "metadata": {
            "tags": [],
            "needs_background": "light"
          }
        }
      ]
    },
    {
      "cell_type": "code",
      "metadata": {
        "id": "MLfO3glrXg9I"
      },
      "source": [
        "ind.simulation()"
      ],
      "execution_count": 33,
      "outputs": []
    },
    {
      "cell_type": "code",
      "metadata": {
        "colab": {
          "base_uri": "https://localhost:8080/",
          "height": 757
        },
        "id": "jKQ46ajZX6Qj",
        "outputId": "42d3c31e-4527-4467-d583-8a4b29f7397b"
      },
      "source": [
        "ind.plot_simulation()"
      ],
      "execution_count": 34,
      "outputs": [
        {
          "output_type": "stream",
          "text": [
            "DatetimeIndex(['2020-04-01', '2020-04-02', '2020-04-03', '2020-04-04',\n",
            "               '2020-04-05', '2020-04-06', '2020-04-07', '2020-04-08',\n",
            "               '2020-04-09', '2020-04-10', '2020-04-11', '2020-04-12',\n",
            "               '2020-04-13', '2020-04-14', '2020-04-15', '2020-04-16',\n",
            "               '2020-04-17', '2020-04-18', '2020-04-19', '2020-04-20',\n",
            "               '2020-04-21', '2020-04-22', '2020-04-23', '2020-04-24',\n",
            "               '2020-04-25', '2020-04-26', '2020-04-27', '2020-04-28',\n",
            "               '2020-04-29', '2020-04-30', '2020-05-01', '2020-05-02',\n",
            "               '2020-05-03', '2020-05-04', '2020-05-05', '2020-05-06',\n",
            "               '2020-05-07', '2020-05-08', '2020-05-09', '2020-05-10',\n",
            "               '2020-05-11', '2020-05-12', '2020-05-13', '2020-05-14',\n",
            "               '2020-05-15', '2020-05-16', '2020-05-17', '2020-05-18',\n",
            "               '2020-05-19', '2020-05-20', '2020-05-21', '2020-05-22',\n",
            "               '2020-05-23', '2020-05-24', '2020-05-25', '2020-05-26',\n",
            "               '2020-05-27', '2020-05-28', '2020-05-29', '2020-05-30',\n",
            "               '2020-05-31', '2020-06-01', '2020-06-02', '2020-06-03',\n",
            "               '2020-06-04', '2020-06-05', '2020-06-06', '2020-06-07',\n",
            "               '2020-06-08', '2020-06-09', '2020-06-10', '2020-06-11',\n",
            "               '2020-06-12', '2020-06-13'],\n",
            "              dtype='datetime64[ns]', freq=None)\n",
            "[1.0, 1.2250914414845355, 1.500853724869757, 1.7910839059577042, 2.148907448723913, 2.5764076834995344, 3.073599296926233, 3.6720899287675333, 4.400862807879417, 5.259917934261881, 6.262962818276173, 7.497138768365034, 8.977817137053336, 10.704997924341075, 12.768689852128427, 15.278365575029394, 18.23428127494739, 21.76708407358633, 26.06210410845707, 31.12070159014062, 37.147063321767085, 44.47726554027108, 53.116241779631515, 63.38203332092809, 75.8798918219143, 90.62442118296076, 108.10355022635747, 129.40394806574938, 154.56560531859648, 184.33151910207857, 220.63676126559943, 263.58160411439576, 314.34571105425175, 376.5251754020049, 450.368909840655, 536.6152674647634, 642.1539398964951, 768.6719604860956, 916.272445381101, 1094.9634006077938, 1311.3488515404085, 1565.4287981789482, 1865.5155103020697, 2227.402382311383, 2656.018596604016, 3173.5981520470946, 3784.6834026167, 4517.00250180204, 5386.635188638722, 6429.676735901361, 7667.101562342393, 9142.948653315767, 10907.398771813923, 13005.78288200266, 15508.26621586865, 18475.13624296971, 22015.968836793945, 26242.33631889622, 31277.404229752483, 37281.1593622227, 44434.36867622203, 52959.38829116421, 63117.15465270942, 75221.45851952829, 89648.29901914178, 106845.92041412405, 127331.74186525882, 151745.1257981296, 180839.0282722612, 215517.49912748806, 256828.56548122177, 306041.12589838094, 364681.74128156475, 434556.97205295943, 517816.44697243324, 617012.2625780822, 735188.3352950092, 875970.491409885, 1043667.8619082303, 1243405.4470909783, 1481293.2870602445, 1764590.132613486, 2101905.3531269026, 2503472.951332373, 2981440.4468006752, 3550203.7191811968, 4226824.800410491, 5031491.26637157, 5988042.163797106, 7124617.053937694, 8474340.304809067, 10076090.614480454, 11975444.467320548, 14225564.048073929, 16888228.8256193, 20034893.092815235, 23747695.374913495, 28120345.8177666, 33258782.160497554, 39281419.83321214, 46318826.64666017, 54512432.147450365, 64011970.54484614, 74971277.52514528, 87542022.28626525, 101864830.75448316, 118057760.64016107, 136201986.85509056, 156325041.86033118, 178382708.33910257, 202241163.01564687, 227661814.03321913, 254291726.22809273, 281662724.96038556, 309201691.9948842, 336253268.97223514, 362114362.59191173, 386077421.96387166, 407477730.51563424, 425738624.9627833, 440408906.28749466, 451187910.6417079, 457935938.2589197, 460670176.48200387, 459548551.07533616, 454844871.97560745, 446919445.30529875, 436188871.5430423, 423097911.6528313, 408095372.95700884, 391614961.5055764, 374061291.63798076, 355800685.7875015, 337156080.35164094, 318405219.7800001, 299781322.61084324, 281475468.42524785, 263640085.22957852, 246393053.70531878, 229822007.6179627, 213988619.16421974, 198932668.67364767, 184675773.84008792, 171224747.42425242, 158574546.2943253, 146710821.71507716, 135612097.40797123, 125251598.81514098, 115598774.65911679, 106620546.6881825, 98282322.28831513, 90548806.27660556, 83384641.40595673, 76754908.21935743, 70625491.91717587, 64963377.726161614, 59736850.09629729, 54915622.552377455, 50470921.32910203, 46375530.020410724, 42603805.65049635, 39131664.04683478, 35936544.70132573, 32997365.39021307, 30294468.146244317, 27809561.392711673, 25525641.253770992, 23426932.45415126, 21498813.862745225, 19727749.338566717, 18101221.293138336, 16607661.794399645, 15236390.373818869, 13977552.47538531]\n",
            "[0.0, 0.0009057403301564932, 0.0020230285156090182, 0.003200423197860016, 0.004658301716375705, 0.006405176572280815, 0.008441107684503856, 0.010895048693401051, 0.0138852461019767, 0.017411699910230796, 0.021530309981982135, 0.02659644261983175, 0.03267278291320917, 0.03975933086211438, 0.04822025546082788, 0.05849847541423036, 0.07059502721638763, 0.08504220962189186, 0.10259511773041928, 0.12325929348111721, 0.14787059330967867, 0.1778047745188239, 0.21308203295893965, 0.2550057439482636, 0.3060563089911546, 0.3662935768067112, 0.4377154841336209, 0.5247716474851254, 0.6276258176383382, 0.7493168809178893, 0.8977593544118798, 1.0733633556430793, 1.2809510775200046, 1.5352225231162362, 1.8371951902781223, 2.189887066305534, 2.6214594766793198, 3.138808099447021, 3.7423544479985584, 4.473008783697407, 5.357766734184218, 6.396628299459002, 7.623560247117836, 9.103099769946498, 10.855405752502731, 12.971414840792193, 15.469706505754893, 18.46371182492921, 22.019195007179864, 26.283722534030453, 31.343033937785503, 37.37714678588619, 44.59122920459295, 53.17063149589898, 63.402256493616356, 75.53261474689513, 90.00975526443285, 107.28989250927651, 127.87665326877794, 152.4242495254774, 181.67189291759698, 216.5289017054634, 258.06240915336014, 307.55576387958166, 366.54684981312624, 436.8691920819177, 520.6394113923072, 620.4732553044819, 739.451637010576, 881.2743070593981, 1050.2308658942686, 1251.516113293749, 1491.3812974266425, 1777.2264660921915, 2117.86039925963, 2523.745646316722, 3007.3671024166347, 3583.605630576581, 4270.159740865207, 5088.096921531025, 6062.5597406731595, 7223.456126703181, 8606.31131191087, 10253.430465908204, 12215.134725751313, 14551.204761648814, 17332.71331380062, 20644.061422334966, 24585.338035000175, 29275.30638546612, 34854.64650672664, 41489.658367141354, 49377.0827128725, 58748.91241094916, 69878.28158510955, 83086.04899538927, 98748.05931880862, 117303.16199941063, 139261.82217238942, 165214.89278748963, 195842.5574153012, 231922.61133045016, 274337.48684717045, 324078.7586542171, 382247.9901362729, 450052.14810897066, 528791.7392397802, 619839.637800043, 724608.7433883324, 844507.0750272337, 980879.8399754312, 1134939.4748626482, 1307686.6795629736, 1499827.4745144427, 1711693.54659536, 1943174.3544567917, 2193669.9288164014, 2462071.7283967678, 2746776.282666555, 3045732.6026074816, 3356519.2045902917, 3676443.945609594, 4002656.6151199355, 4332263.736905829, 4662435.866738392, 4990500.025803883, 5314012.426545612, 5630809.609148423, 5939038.531248224, 6237167.848156345, 6523983.627587303, 6798573.213019407, 7060300.788287784, 7308777.870501745, 7543831.381811437, 7765471.350782014, 7973859.760891115, 8169281.533455673, 8352118.239554951, 8522824.892481113, 8681909.795573063, 8829917.382379662, 8967413.896465989, 9094975.583129166, 9213179.156502945, 9322594.239758816, 9423777.489033217, 9517268.160941081, 9603584.875766093, 9683223.370958949, 9756655.066827541, 9824326.281815521, 9886657.96754734, 9944045.840435674, 9996860.881511841, 10045449.966356732, 10090136.729167115, 10131222.577090546, 10168987.747950116, 10203692.410402795, 10235577.76948057, 10264867.19535363, 10291767.344810573, 10316469.230985533, 10339149.263032928, 10359970.231759245, 10379082.295560589, 10396623.853486123, 10412722.413450155, 10427495.392599605, 10441050.867060876, 10453488.283828797, 10464899.114944516, 10475367.471372744]\n"
          ],
          "name": "stdout"
        },
        {
          "output_type": "execute_result",
          "data": {
            "text/plain": [
              "<module 'matplotlib.pyplot' from '/usr/local/lib/python3.7/dist-packages/matplotlib/pyplot.py'>"
            ]
          },
          "metadata": {
            "tags": []
          },
          "execution_count": 34
        },
        {
          "output_type": "display_data",
          "data": {
            "image/png": "[encoded data removed]",
            "text/plain": [
              "<Figure size 720x360 with 1 Axes>"
            ]
          },
          "metadata": {
            "tags": [],
            "needs_background": "light"
          }
        }
      ]
    }
  ]
}